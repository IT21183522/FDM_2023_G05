{
 "cells": [
  {
   "cell_type": "code",
   "execution_count": 2,
   "id": "ae3c1ce3-64b9-4bdf-96fd-6786cecd4939",
   "metadata": {},
   "outputs": [
    {
     "name": "stdout",
     "output_type": "stream",
     "text": [
      "Requirement already satisfied: numpy in c:\\sliit\\3rd year 2nd semester july\\fdm\\fdm project\\mobile phone price prediction\\model\\env\\lib\\site-packages (1.26.0)\n",
      "Collecting pandas\n",
      "  Obtaining dependency information for pandas from https://files.pythonhosted.org/packages/2d/5e/9213ea10ac473e2437dc2cb17323ddc0999997e2713d6a0b683b10773994/pandas-2.1.1-cp311-cp311-win_amd64.whl.metadata\n",
      "  Using cached pandas-2.1.1-cp311-cp311-win_amd64.whl.metadata (18 kB)\n",
      "Requirement already satisfied: numpy>=1.23.2 in c:\\sliit\\3rd year 2nd semester july\\fdm\\fdm project\\mobile phone price prediction\\model\\env\\lib\\site-packages (from pandas) (1.26.0)\n",
      "Requirement already satisfied: python-dateutil>=2.8.2 in c:\\sliit\\3rd year 2nd semester july\\fdm\\fdm project\\mobile phone price prediction\\model\\env\\lib\\site-packages (from pandas) (2.8.2)\n",
      "Collecting pytz>=2020.1 (from pandas)\n",
      "  Obtaining dependency information for pytz>=2020.1 from https://files.pythonhosted.org/packages/32/4d/aaf7eff5deb402fd9a24a1449a8119f00d74ae9c2efa79f8ef9994261fc2/pytz-2023.3.post1-py2.py3-none-any.whl.metadata\n",
      "  Using cached pytz-2023.3.post1-py2.py3-none-any.whl.metadata (22 kB)\n",
      "Collecting tzdata>=2022.1 (from pandas)\n",
      "  Using cached tzdata-2023.3-py2.py3-none-any.whl (341 kB)\n",
      "Requirement already satisfied: six>=1.5 in c:\\sliit\\3rd year 2nd semester july\\fdm\\fdm project\\mobile phone price prediction\\model\\env\\lib\\site-packages (from python-dateutil>=2.8.2->pandas) (1.16.0)\n",
      "Using cached pandas-2.1.1-cp311-cp311-win_amd64.whl (10.6 MB)\n",
      "Using cached pytz-2023.3.post1-py2.py3-none-any.whl (502 kB)\n",
      "Installing collected packages: pytz, tzdata, pandas\n",
      "Successfully installed pandas-2.1.1 pytz-2023.3.post1 tzdata-2023.3\n"
     ]
    }
   ],
   "source": [
    "!pip install numpy\n",
    "!pip install pandas"
   ]
  },
  {
   "cell_type": "code",
   "execution_count": 1,
   "id": "9b19d5bf-bef5-451d-b32b-b1c7bcc3887b",
   "metadata": {},
   "outputs": [],
   "source": [
    "import numpy as np\n",
    "import pandas as pd"
   ]
  },
  {
   "cell_type": "code",
   "execution_count": 50,
   "id": "d6b7bdfe-0e19-4b15-bb48-0a9a4a9f4284",
   "metadata": {},
   "outputs": [
    {
     "data": {
      "text/html": [
       "<div>\n",
       "<style scoped>\n",
       "    .dataframe tbody tr th:only-of-type {\n",
       "        vertical-align: middle;\n",
       "    }\n",
       "\n",
       "    .dataframe tbody tr th {\n",
       "        vertical-align: top;\n",
       "    }\n",
       "\n",
       "    .dataframe thead th {\n",
       "        text-align: right;\n",
       "    }\n",
       "</style>\n",
       "<table border=\"1\" class=\"dataframe\">\n",
       "  <thead>\n",
       "    <tr style=\"text-align: right;\">\n",
       "      <th></th>\n",
       "      <th>Phone_ID</th>\n",
       "      <th>Brand</th>\n",
       "      <th>Ratings</th>\n",
       "      <th>RAM</th>\n",
       "      <th>ROM</th>\n",
       "      <th>Mobile_Size</th>\n",
       "      <th>Primary_Cam</th>\n",
       "      <th>Selfi_Cam</th>\n",
       "      <th>Battery_Power</th>\n",
       "      <th>Price($)</th>\n",
       "    </tr>\n",
       "  </thead>\n",
       "  <tbody>\n",
       "    <tr>\n",
       "      <th>0</th>\n",
       "      <td>1</td>\n",
       "      <td>Oppo  A17</td>\n",
       "      <td>4.3</td>\n",
       "      <td>4.0</td>\n",
       "      <td>64.0</td>\n",
       "      <td>6.4</td>\n",
       "      <td>64.0</td>\n",
       "      <td>48.0</td>\n",
       "      <td>6500.0</td>\n",
       "      <td>649</td>\n",
       "    </tr>\n",
       "    <tr>\n",
       "      <th>1</th>\n",
       "      <td>2</td>\n",
       "      <td>Vivo  Y81</td>\n",
       "      <td>3.4</td>\n",
       "      <td>4.0</td>\n",
       "      <td>48.0</td>\n",
       "      <td>5.8</td>\n",
       "      <td>64.0</td>\n",
       "      <td>48.0</td>\n",
       "      <td>5300.0</td>\n",
       "      <td>750</td>\n",
       "    </tr>\n",
       "    <tr>\n",
       "      <th>2</th>\n",
       "      <td>3</td>\n",
       "      <td>Redmi A9</td>\n",
       "      <td>4.3</td>\n",
       "      <td>4.0</td>\n",
       "      <td>64.0</td>\n",
       "      <td>6.1</td>\n",
       "      <td>48.0</td>\n",
       "      <td>32.0</td>\n",
       "      <td>4000.0</td>\n",
       "      <td>449</td>\n",
       "    </tr>\n",
       "    <tr>\n",
       "      <th>3</th>\n",
       "      <td>4</td>\n",
       "      <td>Samsung  Galaxy A50</td>\n",
       "      <td>4.4</td>\n",
       "      <td>4.0</td>\n",
       "      <td>64.0</td>\n",
       "      <td>6.4</td>\n",
       "      <td>48.0</td>\n",
       "      <td>32.0</td>\n",
       "      <td>5500.0</td>\n",
       "      <td>609</td>\n",
       "    </tr>\n",
       "    <tr>\n",
       "      <th>4</th>\n",
       "      <td>5</td>\n",
       "      <td>Nokia  415</td>\n",
       "      <td>4.5</td>\n",
       "      <td>2.0</td>\n",
       "      <td>24.0</td>\n",
       "      <td>3.7</td>\n",
       "      <td>16.0</td>\n",
       "      <td>12.0</td>\n",
       "      <td>3000.0</td>\n",
       "      <td>249</td>\n",
       "    </tr>\n",
       "  </tbody>\n",
       "</table>\n",
       "</div>"
      ],
      "text/plain": [
       "   Phone_ID                  Brand  Ratings  RAM   ROM  Mobile_Size  \\\n",
       "0         1              Oppo  A17      4.3  4.0  64.0          6.4   \n",
       "1         2              Vivo  Y81      3.4  4.0  48.0          5.8   \n",
       "2         3               Redmi A9      4.3  4.0  64.0          6.1   \n",
       "3         4    Samsung  Galaxy A50      4.4  4.0  64.0          6.4   \n",
       "4         5             Nokia  415      4.5  2.0  24.0          3.7   \n",
       "\n",
       "   Primary_Cam  Selfi_Cam  Battery_Power  Price($)  \n",
       "0         64.0       48.0         6500.0       649  \n",
       "1         64.0       48.0         5300.0       750  \n",
       "2         48.0       32.0         4000.0       449  \n",
       "3         48.0       32.0         5500.0       609  \n",
       "4         16.0       12.0         3000.0       249  "
      ]
     },
     "execution_count": 50,
     "metadata": {},
     "output_type": "execute_result"
    }
   ],
   "source": [
    "url = 'https://raw.githubusercontent.com/ZaidhShafrazIT21039072/FDM_2023_G05/main/fdm_dataset.csv'\n",
    "data = pd.read_csv(url, encoding='latin-1')\n",
    "data.head()"
   ]
  },
  {
   "cell_type": "code",
   "execution_count": 51,
   "id": "b3a5d363-8abd-4e8e-b930-a19ba9fd719b",
   "metadata": {},
   "outputs": [
    {
     "data": {
      "text/plain": [
       "(1365, 10)"
      ]
     },
     "execution_count": 51,
     "metadata": {},
     "output_type": "execute_result"
    }
   ],
   "source": [
    "data.shape"
   ]
  },
  {
   "cell_type": "code",
   "execution_count": 52,
   "id": "be611a04-58ca-41e6-8da3-6488576a21aa",
   "metadata": {},
   "outputs": [
    {
     "data": {
      "text/html": [
       "<div>\n",
       "<style scoped>\n",
       "    .dataframe tbody tr th:only-of-type {\n",
       "        vertical-align: middle;\n",
       "    }\n",
       "\n",
       "    .dataframe tbody tr th {\n",
       "        vertical-align: top;\n",
       "    }\n",
       "\n",
       "    .dataframe thead th {\n",
       "        text-align: right;\n",
       "    }\n",
       "</style>\n",
       "<table border=\"1\" class=\"dataframe\">\n",
       "  <thead>\n",
       "    <tr style=\"text-align: right;\">\n",
       "      <th></th>\n",
       "      <th>Phone_ID</th>\n",
       "      <th>Brand</th>\n",
       "      <th>Ratings</th>\n",
       "      <th>RAM</th>\n",
       "      <th>ROM</th>\n",
       "      <th>Mobile_Size</th>\n",
       "      <th>Primary_Cam</th>\n",
       "      <th>Selfi_Cam</th>\n",
       "      <th>Battery_Power</th>\n",
       "      <th>Price($)</th>\n",
       "    </tr>\n",
       "  </thead>\n",
       "  <tbody>\n",
       "    <tr>\n",
       "      <th>0</th>\n",
       "      <td>False</td>\n",
       "      <td>False</td>\n",
       "      <td>False</td>\n",
       "      <td>False</td>\n",
       "      <td>False</td>\n",
       "      <td>False</td>\n",
       "      <td>False</td>\n",
       "      <td>False</td>\n",
       "      <td>False</td>\n",
       "      <td>False</td>\n",
       "    </tr>\n",
       "    <tr>\n",
       "      <th>1</th>\n",
       "      <td>False</td>\n",
       "      <td>False</td>\n",
       "      <td>False</td>\n",
       "      <td>False</td>\n",
       "      <td>False</td>\n",
       "      <td>False</td>\n",
       "      <td>False</td>\n",
       "      <td>False</td>\n",
       "      <td>False</td>\n",
       "      <td>False</td>\n",
       "    </tr>\n",
       "    <tr>\n",
       "      <th>2</th>\n",
       "      <td>False</td>\n",
       "      <td>False</td>\n",
       "      <td>False</td>\n",
       "      <td>False</td>\n",
       "      <td>False</td>\n",
       "      <td>False</td>\n",
       "      <td>False</td>\n",
       "      <td>False</td>\n",
       "      <td>False</td>\n",
       "      <td>False</td>\n",
       "    </tr>\n",
       "    <tr>\n",
       "      <th>3</th>\n",
       "      <td>False</td>\n",
       "      <td>False</td>\n",
       "      <td>False</td>\n",
       "      <td>False</td>\n",
       "      <td>False</td>\n",
       "      <td>False</td>\n",
       "      <td>False</td>\n",
       "      <td>False</td>\n",
       "      <td>False</td>\n",
       "      <td>False</td>\n",
       "    </tr>\n",
       "    <tr>\n",
       "      <th>4</th>\n",
       "      <td>False</td>\n",
       "      <td>False</td>\n",
       "      <td>False</td>\n",
       "      <td>False</td>\n",
       "      <td>False</td>\n",
       "      <td>False</td>\n",
       "      <td>False</td>\n",
       "      <td>False</td>\n",
       "      <td>False</td>\n",
       "      <td>False</td>\n",
       "    </tr>\n",
       "    <tr>\n",
       "      <th>...</th>\n",
       "      <td>...</td>\n",
       "      <td>...</td>\n",
       "      <td>...</td>\n",
       "      <td>...</td>\n",
       "      <td>...</td>\n",
       "      <td>...</td>\n",
       "      <td>...</td>\n",
       "      <td>...</td>\n",
       "      <td>...</td>\n",
       "      <td>...</td>\n",
       "    </tr>\n",
       "    <tr>\n",
       "      <th>1360</th>\n",
       "      <td>False</td>\n",
       "      <td>False</td>\n",
       "      <td>False</td>\n",
       "      <td>False</td>\n",
       "      <td>True</td>\n",
       "      <td>False</td>\n",
       "      <td>False</td>\n",
       "      <td>True</td>\n",
       "      <td>True</td>\n",
       "      <td>False</td>\n",
       "    </tr>\n",
       "    <tr>\n",
       "      <th>1361</th>\n",
       "      <td>False</td>\n",
       "      <td>False</td>\n",
       "      <td>False</td>\n",
       "      <td>False</td>\n",
       "      <td>False</td>\n",
       "      <td>True</td>\n",
       "      <td>False</td>\n",
       "      <td>False</td>\n",
       "      <td>False</td>\n",
       "      <td>False</td>\n",
       "    </tr>\n",
       "    <tr>\n",
       "      <th>1362</th>\n",
       "      <td>False</td>\n",
       "      <td>False</td>\n",
       "      <td>False</td>\n",
       "      <td>False</td>\n",
       "      <td>False</td>\n",
       "      <td>False</td>\n",
       "      <td>False</td>\n",
       "      <td>False</td>\n",
       "      <td>False</td>\n",
       "      <td>False</td>\n",
       "    </tr>\n",
       "    <tr>\n",
       "      <th>1363</th>\n",
       "      <td>False</td>\n",
       "      <td>False</td>\n",
       "      <td>False</td>\n",
       "      <td>False</td>\n",
       "      <td>False</td>\n",
       "      <td>False</td>\n",
       "      <td>False</td>\n",
       "      <td>False</td>\n",
       "      <td>False</td>\n",
       "      <td>False</td>\n",
       "    </tr>\n",
       "    <tr>\n",
       "      <th>1364</th>\n",
       "      <td>False</td>\n",
       "      <td>False</td>\n",
       "      <td>False</td>\n",
       "      <td>False</td>\n",
       "      <td>False</td>\n",
       "      <td>False</td>\n",
       "      <td>False</td>\n",
       "      <td>False</td>\n",
       "      <td>False</td>\n",
       "      <td>False</td>\n",
       "    </tr>\n",
       "  </tbody>\n",
       "</table>\n",
       "<p>1365 rows × 10 columns</p>\n",
       "</div>"
      ],
      "text/plain": [
       "      Phone_ID  Brand  Ratings    RAM    ROM  Mobile_Size  Primary_Cam  \\\n",
       "0        False  False    False  False  False        False        False   \n",
       "1        False  False    False  False  False        False        False   \n",
       "2        False  False    False  False  False        False        False   \n",
       "3        False  False    False  False  False        False        False   \n",
       "4        False  False    False  False  False        False        False   \n",
       "...        ...    ...      ...    ...    ...          ...          ...   \n",
       "1360     False  False    False  False   True        False        False   \n",
       "1361     False  False    False  False  False         True        False   \n",
       "1362     False  False    False  False  False        False        False   \n",
       "1363     False  False    False  False  False        False        False   \n",
       "1364     False  False    False  False  False        False        False   \n",
       "\n",
       "      Selfi_Cam  Battery_Power  Price($)  \n",
       "0         False          False     False  \n",
       "1         False          False     False  \n",
       "2         False          False     False  \n",
       "3         False          False     False  \n",
       "4         False          False     False  \n",
       "...         ...            ...       ...  \n",
       "1360       True           True     False  \n",
       "1361      False          False     False  \n",
       "1362      False          False     False  \n",
       "1363      False          False     False  \n",
       "1364      False          False     False  \n",
       "\n",
       "[1365 rows x 10 columns]"
      ]
     },
     "execution_count": 52,
     "metadata": {},
     "output_type": "execute_result"
    }
   ],
   "source": [
    "data.isnull()"
   ]
  },
  {
   "cell_type": "code",
   "execution_count": 53,
   "id": "e59e2747-36c2-4077-a791-9646b5d6aed1",
   "metadata": {},
   "outputs": [
    {
     "data": {
      "text/plain": [
       "Phone_ID           0\n",
       "Brand              0\n",
       "Ratings           45\n",
       "RAM              101\n",
       "ROM               90\n",
       "Mobile_Size       94\n",
       "Primary_Cam      109\n",
       "Selfi_Cam        101\n",
       "Battery_Power    117\n",
       "Price($)           0\n",
       "dtype: int64"
      ]
     },
     "execution_count": 53,
     "metadata": {},
     "output_type": "execute_result"
    }
   ],
   "source": [
    "data.isnull().sum()"
   ]
  },
  {
   "cell_type": "code",
   "execution_count": 54,
   "id": "8309587f-46d1-409e-9f31-5425788f04b8",
   "metadata": {},
   "outputs": [
    {
     "data": {
      "text/plain": [
       "(1365, 10)"
      ]
     },
     "execution_count": 54,
     "metadata": {},
     "output_type": "execute_result"
    }
   ],
   "source": [
    "data.shape"
   ]
  },
  {
   "cell_type": "code",
   "execution_count": 55,
   "id": "34395521-039a-4b2d-b103-83c3c75da2c6",
   "metadata": {},
   "outputs": [],
   "source": [
    "data = data.dropna()"
   ]
  },
  {
   "cell_type": "code",
   "execution_count": 56,
   "id": "27b466a3-5f7b-4656-9bdf-55a1e4bc7e74",
   "metadata": {},
   "outputs": [
    {
     "data": {
      "text/plain": [
       "(833, 10)"
      ]
     },
     "execution_count": 56,
     "metadata": {},
     "output_type": "execute_result"
    }
   ],
   "source": [
    "data.shape"
   ]
  },
  {
   "cell_type": "code",
   "execution_count": 57,
   "id": "65121ec7-8241-480d-85be-2430c24ad2d2",
   "metadata": {},
   "outputs": [
    {
     "data": {
      "text/plain": [
       "Phone_ID         0\n",
       "Brand            0\n",
       "Ratings          0\n",
       "RAM              0\n",
       "ROM              0\n",
       "Mobile_Size      0\n",
       "Primary_Cam      0\n",
       "Selfi_Cam        0\n",
       "Battery_Power    0\n",
       "Price($)         0\n",
       "dtype: int64"
      ]
     },
     "execution_count": 57,
     "metadata": {},
     "output_type": "execute_result"
    }
   ],
   "source": [
    "data.isnull().sum()"
   ]
  },
  {
   "cell_type": "code",
   "execution_count": 58,
   "id": "b7551fe2-c3c8-46ac-b8b1-6f23df021f3f",
   "metadata": {},
   "outputs": [
    {
     "name": "stdout",
     "output_type": "stream",
     "text": [
      "<class 'pandas.core.frame.DataFrame'>\n",
      "Index: 833 entries, 0 to 1364\n",
      "Data columns (total 10 columns):\n",
      " #   Column         Non-Null Count  Dtype  \n",
      "---  ------         --------------  -----  \n",
      " 0   Phone_ID       833 non-null    int64  \n",
      " 1   Brand          833 non-null    object \n",
      " 2   Ratings        833 non-null    float64\n",
      " 3   RAM            833 non-null    float64\n",
      " 4   ROM            833 non-null    float64\n",
      " 5   Mobile_Size    833 non-null    float64\n",
      " 6   Primary_Cam    833 non-null    float64\n",
      " 7   Selfi_Cam      833 non-null    float64\n",
      " 8   Battery_Power  833 non-null    float64\n",
      " 9   Price($)       833 non-null    int64  \n",
      "dtypes: float64(7), int64(2), object(1)\n",
      "memory usage: 71.6+ KB\n"
     ]
    }
   ],
   "source": [
    "data.info()"
   ]
  },
  {
   "cell_type": "code",
   "execution_count": 59,
   "id": "da095d4b-0ca9-4784-bcad-fa37865fbed6",
   "metadata": {},
   "outputs": [],
   "source": [
    "data['RAM'] = data['RAM'].astype('int32')"
   ]
  },
  {
   "cell_type": "code",
   "execution_count": 60,
   "id": "8cd49d9f-b73a-4170-ab98-48a0aa1747ed",
   "metadata": {},
   "outputs": [
    {
     "data": {
      "text/html": [
       "<div>\n",
       "<style scoped>\n",
       "    .dataframe tbody tr th:only-of-type {\n",
       "        vertical-align: middle;\n",
       "    }\n",
       "\n",
       "    .dataframe tbody tr th {\n",
       "        vertical-align: top;\n",
       "    }\n",
       "\n",
       "    .dataframe thead th {\n",
       "        text-align: right;\n",
       "    }\n",
       "</style>\n",
       "<table border=\"1\" class=\"dataframe\">\n",
       "  <thead>\n",
       "    <tr style=\"text-align: right;\">\n",
       "      <th></th>\n",
       "      <th>Phone_ID</th>\n",
       "      <th>Brand</th>\n",
       "      <th>Ratings</th>\n",
       "      <th>RAM</th>\n",
       "      <th>ROM</th>\n",
       "      <th>Mobile_Size</th>\n",
       "      <th>Primary_Cam</th>\n",
       "      <th>Selfi_Cam</th>\n",
       "      <th>Battery_Power</th>\n",
       "      <th>Price($)</th>\n",
       "    </tr>\n",
       "  </thead>\n",
       "  <tbody>\n",
       "    <tr>\n",
       "      <th>0</th>\n",
       "      <td>1</td>\n",
       "      <td>Oppo  A17</td>\n",
       "      <td>4.3</td>\n",
       "      <td>4</td>\n",
       "      <td>64.0</td>\n",
       "      <td>6.4</td>\n",
       "      <td>64.0</td>\n",
       "      <td>48.0</td>\n",
       "      <td>6500.0</td>\n",
       "      <td>649</td>\n",
       "    </tr>\n",
       "    <tr>\n",
       "      <th>1</th>\n",
       "      <td>2</td>\n",
       "      <td>Vivo  Y81</td>\n",
       "      <td>3.4</td>\n",
       "      <td>4</td>\n",
       "      <td>48.0</td>\n",
       "      <td>5.8</td>\n",
       "      <td>64.0</td>\n",
       "      <td>48.0</td>\n",
       "      <td>5300.0</td>\n",
       "      <td>750</td>\n",
       "    </tr>\n",
       "  </tbody>\n",
       "</table>\n",
       "</div>"
      ],
      "text/plain": [
       "   Phone_ID        Brand  Ratings  RAM   ROM  Mobile_Size  Primary_Cam  \\\n",
       "0         1    Oppo  A17      4.3    4  64.0          6.4         64.0   \n",
       "1         2    Vivo  Y81      3.4    4  48.0          5.8         64.0   \n",
       "\n",
       "   Selfi_Cam  Battery_Power  Price($)  \n",
       "0       48.0         6500.0       649  \n",
       "1       48.0         5300.0       750  "
      ]
     },
     "execution_count": 60,
     "metadata": {},
     "output_type": "execute_result"
    }
   ],
   "source": [
    "data.head(2)"
   ]
  },
  {
   "cell_type": "code",
   "execution_count": 61,
   "id": "19e55bcf-f45c-4380-87f1-1aeada3945ed",
   "metadata": {},
   "outputs": [],
   "source": [
    "data['ROM'] = data['ROM'].astype('int32')"
   ]
  },
  {
   "cell_type": "code",
   "execution_count": 62,
   "id": "493c3a73-864e-42d8-a2ee-3b14bd77dc5e",
   "metadata": {},
   "outputs": [],
   "source": [
    "data['Price($)'] = data['Price($)'].astype('float64')"
   ]
  },
  {
   "cell_type": "code",
   "execution_count": 63,
   "id": "259f5aa9-90d3-4dd3-8a88-6864638c3f1b",
   "metadata": {},
   "outputs": [],
   "source": [
    "data['Battery_Power'] = data['Battery_Power'].astype('int32')"
   ]
  },
  {
   "cell_type": "code",
   "execution_count": 64,
   "id": "44844adb-9e7d-4968-9f62-a147c8e15dce",
   "metadata": {},
   "outputs": [],
   "source": [
    "data['Selfi_Cam'] = data['Selfi_Cam'].astype('int32')"
   ]
  },
  {
   "cell_type": "code",
   "execution_count": 65,
   "id": "c13ef53c-5488-4bab-ba57-b38e0d31bc99",
   "metadata": {},
   "outputs": [],
   "source": [
    "data['Primary_Cam'] = data['Primary_Cam'].astype('int32')\n"
   ]
  },
  {
   "cell_type": "code",
   "execution_count": 66,
   "id": "a2310ce8-7c35-423a-ade9-7da362bf71f0",
   "metadata": {},
   "outputs": [
    {
     "data": {
      "text/html": [
       "<div>\n",
       "<style scoped>\n",
       "    .dataframe tbody tr th:only-of-type {\n",
       "        vertical-align: middle;\n",
       "    }\n",
       "\n",
       "    .dataframe tbody tr th {\n",
       "        vertical-align: top;\n",
       "    }\n",
       "\n",
       "    .dataframe thead th {\n",
       "        text-align: right;\n",
       "    }\n",
       "</style>\n",
       "<table border=\"1\" class=\"dataframe\">\n",
       "  <thead>\n",
       "    <tr style=\"text-align: right;\">\n",
       "      <th></th>\n",
       "      <th>Phone_ID</th>\n",
       "      <th>Brand</th>\n",
       "      <th>Ratings</th>\n",
       "      <th>RAM</th>\n",
       "      <th>ROM</th>\n",
       "      <th>Mobile_Size</th>\n",
       "      <th>Primary_Cam</th>\n",
       "      <th>Selfi_Cam</th>\n",
       "      <th>Battery_Power</th>\n",
       "      <th>Price($)</th>\n",
       "    </tr>\n",
       "  </thead>\n",
       "  <tbody>\n",
       "    <tr>\n",
       "      <th>0</th>\n",
       "      <td>1</td>\n",
       "      <td>Oppo  A17</td>\n",
       "      <td>4.3</td>\n",
       "      <td>4</td>\n",
       "      <td>64</td>\n",
       "      <td>6.4</td>\n",
       "      <td>64</td>\n",
       "      <td>48</td>\n",
       "      <td>6500</td>\n",
       "      <td>649.0</td>\n",
       "    </tr>\n",
       "    <tr>\n",
       "      <th>1</th>\n",
       "      <td>2</td>\n",
       "      <td>Vivo  Y81</td>\n",
       "      <td>3.4</td>\n",
       "      <td>4</td>\n",
       "      <td>48</td>\n",
       "      <td>5.8</td>\n",
       "      <td>64</td>\n",
       "      <td>48</td>\n",
       "      <td>5300</td>\n",
       "      <td>750.0</td>\n",
       "    </tr>\n",
       "  </tbody>\n",
       "</table>\n",
       "</div>"
      ],
      "text/plain": [
       "   Phone_ID        Brand  Ratings  RAM  ROM  Mobile_Size  Primary_Cam  \\\n",
       "0         1    Oppo  A17      4.3    4   64          6.4           64   \n",
       "1         2    Vivo  Y81      3.4    4   48          5.8           64   \n",
       "\n",
       "   Selfi_Cam  Battery_Power  Price($)  \n",
       "0         48           6500     649.0  \n",
       "1         48           5300     750.0  "
      ]
     },
     "execution_count": 66,
     "metadata": {},
     "output_type": "execute_result"
    }
   ],
   "source": [
    "data.head(2)"
   ]
  },
  {
   "cell_type": "code",
   "execution_count": 67,
   "id": "8e6ccd21-2bca-494c-b9a0-1dcac2db4077",
   "metadata": {},
   "outputs": [
    {
     "data": {
      "text/plain": [
       "Brand\n",
       "  Nokia  415              85\n",
       "  Nokia  216              81\n",
       "  Oppo  A9                81\n",
       "  Vivo  Y81               75\n",
       "  Redmi A9                73\n",
       "Oppo  A17                 68\n",
       "  Vivo  V21               59\n",
       "  Samsung  Galaxy A50     57\n",
       "Redmi K20                 53\n",
       "  Apple iPhone 12         45\n",
       "  Apple iPhone 11 Pro     42\n",
       "  Samsung  Galaxy A70     41\n",
       "  Samsung  Galaxy S20+    40\n",
       "  Apple iPhone 11         33\n",
       "Name: count, dtype: int64"
      ]
     },
     "execution_count": 67,
     "metadata": {},
     "output_type": "execute_result"
    }
   ],
   "source": [
    "data['Brand'].value_counts()"
   ]
  },
  {
   "cell_type": "code",
   "execution_count": 68,
   "id": "432a2af0-6c69-423e-90df-2bac3d9a19b7",
   "metadata": {},
   "outputs": [],
   "source": [
    "data['brand_name']=data['Brand'].apply(lambda x:' '.join(x.split()[0:1]))\n",
    "#data['model']=data['Brand'].apply(lambda x:''.join(x.split()[1:4]))"
   ]
  },
  {
   "cell_type": "code",
   "execution_count": 69,
   "id": "94b2b15c-d443-46a9-b6e3-ee62a9409e3f",
   "metadata": {},
   "outputs": [
    {
     "data": {
      "text/plain": [
       "brand_name\n",
       "Nokia      166\n",
       "Oppo       149\n",
       "Samsung    138\n",
       "Vivo       134\n",
       "Redmi      126\n",
       "Apple      120\n",
       "Name: count, dtype: int64"
      ]
     },
     "execution_count": 69,
     "metadata": {},
     "output_type": "execute_result"
    }
   ],
   "source": [
    "data['brand_name'].value_counts()"
   ]
  },
  {
   "cell_type": "code",
   "execution_count": 70,
   "id": "acc7195c-64bb-4f0b-ad26-724c8be33fac",
   "metadata": {},
   "outputs": [
    {
     "data": {
      "text/html": [
       "<div>\n",
       "<style scoped>\n",
       "    .dataframe tbody tr th:only-of-type {\n",
       "        vertical-align: middle;\n",
       "    }\n",
       "\n",
       "    .dataframe tbody tr th {\n",
       "        vertical-align: top;\n",
       "    }\n",
       "\n",
       "    .dataframe thead th {\n",
       "        text-align: right;\n",
       "    }\n",
       "</style>\n",
       "<table border=\"1\" class=\"dataframe\">\n",
       "  <thead>\n",
       "    <tr style=\"text-align: right;\">\n",
       "      <th></th>\n",
       "      <th>Phone_ID</th>\n",
       "      <th>Brand</th>\n",
       "      <th>Ratings</th>\n",
       "      <th>RAM</th>\n",
       "      <th>ROM</th>\n",
       "      <th>Mobile_Size</th>\n",
       "      <th>Primary_Cam</th>\n",
       "      <th>Selfi_Cam</th>\n",
       "      <th>Battery_Power</th>\n",
       "      <th>Price($)</th>\n",
       "      <th>brand_name</th>\n",
       "    </tr>\n",
       "  </thead>\n",
       "  <tbody>\n",
       "    <tr>\n",
       "      <th>0</th>\n",
       "      <td>1</td>\n",
       "      <td>Oppo  A17</td>\n",
       "      <td>4.3</td>\n",
       "      <td>4</td>\n",
       "      <td>64</td>\n",
       "      <td>6.4</td>\n",
       "      <td>64</td>\n",
       "      <td>48</td>\n",
       "      <td>6500</td>\n",
       "      <td>649.0</td>\n",
       "      <td>Oppo</td>\n",
       "    </tr>\n",
       "    <tr>\n",
       "      <th>1</th>\n",
       "      <td>2</td>\n",
       "      <td>Vivo  Y81</td>\n",
       "      <td>3.4</td>\n",
       "      <td>4</td>\n",
       "      <td>48</td>\n",
       "      <td>5.8</td>\n",
       "      <td>64</td>\n",
       "      <td>48</td>\n",
       "      <td>5300</td>\n",
       "      <td>750.0</td>\n",
       "      <td>Vivo</td>\n",
       "    </tr>\n",
       "  </tbody>\n",
       "</table>\n",
       "</div>"
      ],
      "text/plain": [
       "   Phone_ID        Brand  Ratings  RAM  ROM  Mobile_Size  Primary_Cam  \\\n",
       "0         1    Oppo  A17      4.3    4   64          6.4           64   \n",
       "1         2    Vivo  Y81      3.4    4   48          5.8           64   \n",
       "\n",
       "   Selfi_Cam  Battery_Power  Price($) brand_name  \n",
       "0         48           6500     649.0       Oppo  \n",
       "1         48           5300     750.0       Vivo  "
      ]
     },
     "execution_count": 70,
     "metadata": {},
     "output_type": "execute_result"
    }
   ],
   "source": [
    "data.head(2)"
   ]
  },
  {
   "cell_type": "code",
   "execution_count": 71,
   "id": "4e66f08a-0da4-41c9-889c-3f89fe6c3bd2",
   "metadata": {},
   "outputs": [
    {
     "data": {
      "text/plain": [
       "Mobile_Size\n",
       "6.4    247\n",
       "6.1    159\n",
       "3.7     85\n",
       "3.4     81\n",
       "5.8     75\n",
       "6.0     59\n",
       "6.2     45\n",
       "6.3     42\n",
       "6.5     40\n",
       "Name: count, dtype: int64"
      ]
     },
     "execution_count": 71,
     "metadata": {},
     "output_type": "execute_result"
    }
   ],
   "source": [
    "data['Mobile_Size'].value_counts()"
   ]
  },
  {
   "cell_type": "code",
   "execution_count": 72,
   "id": "da53ff69-f851-4b7c-a9e2-851254004b56",
   "metadata": {},
   "outputs": [
    {
     "data": {
      "text/plain": [
       "Primary_Cam\n",
       "48    316\n",
       "64    306\n",
       "16     85\n",
       "12     81\n",
       "36     45\n",
       "Name: count, dtype: int64"
      ]
     },
     "execution_count": 72,
     "metadata": {},
     "output_type": "execute_result"
    }
   ],
   "source": [
    "data['Primary_Cam'].value_counts()\n"
   ]
  },
  {
   "cell_type": "code",
   "execution_count": 73,
   "id": "d8d9e5a9-4513-4a09-acc7-baed821c5d22",
   "metadata": {},
   "outputs": [
    {
     "data": {
      "text/plain": [
       "Selfi_Cam\n",
       "48    306\n",
       "32    230\n",
       "24    131\n",
       "12     85\n",
       "8      81\n",
       "Name: count, dtype: int64"
      ]
     },
     "execution_count": 73,
     "metadata": {},
     "output_type": "execute_result"
    }
   ],
   "source": [
    "data['Selfi_Cam'].value_counts()\n"
   ]
  },
  {
   "cell_type": "code",
   "execution_count": 74,
   "id": "aec1a35a-6fb7-48cb-9019-fac715ff9741",
   "metadata": {},
   "outputs": [
    {
     "data": {
      "text/plain": [
       "Battery_Power\n",
       "6500    191\n",
       "5500    190\n",
       "3000     85\n",
       "2500     81\n",
       "5300     75\n",
       "4000     73\n",
       "5000     53\n",
       "6000     45\n",
       "7000     40\n",
       "Name: count, dtype: int64"
      ]
     },
     "execution_count": 74,
     "metadata": {},
     "output_type": "execute_result"
    }
   ],
   "source": [
    "data['Battery_Power'].value_counts()"
   ]
  },
  {
   "cell_type": "code",
   "execution_count": 75,
   "id": "9c61d200-bc74-4b02-ac21-bb919e4484f5",
   "metadata": {},
   "outputs": [],
   "source": [
    "data=data.drop(columns=['Brand','Phone_ID'])\n"
   ]
  },
  {
   "cell_type": "code",
   "execution_count": 76,
   "id": "dda3f3cd-fdc4-43d9-87a9-acb9254b51aa",
   "metadata": {},
   "outputs": [
    {
     "data": {
      "text/html": [
       "<div>\n",
       "<style scoped>\n",
       "    .dataframe tbody tr th:only-of-type {\n",
       "        vertical-align: middle;\n",
       "    }\n",
       "\n",
       "    .dataframe tbody tr th {\n",
       "        vertical-align: top;\n",
       "    }\n",
       "\n",
       "    .dataframe thead th {\n",
       "        text-align: right;\n",
       "    }\n",
       "</style>\n",
       "<table border=\"1\" class=\"dataframe\">\n",
       "  <thead>\n",
       "    <tr style=\"text-align: right;\">\n",
       "      <th></th>\n",
       "      <th>Ratings</th>\n",
       "      <th>RAM</th>\n",
       "      <th>ROM</th>\n",
       "      <th>Mobile_Size</th>\n",
       "      <th>Primary_Cam</th>\n",
       "      <th>Selfi_Cam</th>\n",
       "      <th>Battery_Power</th>\n",
       "      <th>Price($)</th>\n",
       "      <th>brand_name</th>\n",
       "    </tr>\n",
       "  </thead>\n",
       "  <tbody>\n",
       "    <tr>\n",
       "      <th>0</th>\n",
       "      <td>4.3</td>\n",
       "      <td>4</td>\n",
       "      <td>64</td>\n",
       "      <td>6.4</td>\n",
       "      <td>64</td>\n",
       "      <td>48</td>\n",
       "      <td>6500</td>\n",
       "      <td>649.0</td>\n",
       "      <td>Oppo</td>\n",
       "    </tr>\n",
       "    <tr>\n",
       "      <th>1</th>\n",
       "      <td>3.4</td>\n",
       "      <td>4</td>\n",
       "      <td>48</td>\n",
       "      <td>5.8</td>\n",
       "      <td>64</td>\n",
       "      <td>48</td>\n",
       "      <td>5300</td>\n",
       "      <td>750.0</td>\n",
       "      <td>Vivo</td>\n",
       "    </tr>\n",
       "    <tr>\n",
       "      <th>2</th>\n",
       "      <td>4.3</td>\n",
       "      <td>4</td>\n",
       "      <td>64</td>\n",
       "      <td>6.1</td>\n",
       "      <td>48</td>\n",
       "      <td>32</td>\n",
       "      <td>4000</td>\n",
       "      <td>449.0</td>\n",
       "      <td>Redmi</td>\n",
       "    </tr>\n",
       "    <tr>\n",
       "      <th>3</th>\n",
       "      <td>4.4</td>\n",
       "      <td>4</td>\n",
       "      <td>64</td>\n",
       "      <td>6.4</td>\n",
       "      <td>48</td>\n",
       "      <td>32</td>\n",
       "      <td>5500</td>\n",
       "      <td>609.0</td>\n",
       "      <td>Samsung</td>\n",
       "    </tr>\n",
       "    <tr>\n",
       "      <th>4</th>\n",
       "      <td>4.5</td>\n",
       "      <td>2</td>\n",
       "      <td>24</td>\n",
       "      <td>3.7</td>\n",
       "      <td>16</td>\n",
       "      <td>12</td>\n",
       "      <td>3000</td>\n",
       "      <td>249.0</td>\n",
       "      <td>Nokia</td>\n",
       "    </tr>\n",
       "  </tbody>\n",
       "</table>\n",
       "</div>"
      ],
      "text/plain": [
       "   Ratings  RAM  ROM  Mobile_Size  Primary_Cam  Selfi_Cam  Battery_Power  \\\n",
       "0      4.3    4   64          6.4           64         48           6500   \n",
       "1      3.4    4   48          5.8           64         48           5300   \n",
       "2      4.3    4   64          6.1           48         32           4000   \n",
       "3      4.4    4   64          6.4           48         32           5500   \n",
       "4      4.5    2   24          3.7           16         12           3000   \n",
       "\n",
       "   Price($) brand_name  \n",
       "0     649.0       Oppo  \n",
       "1     750.0       Vivo  \n",
       "2     449.0      Redmi  \n",
       "3     609.0    Samsung  \n",
       "4     249.0      Nokia  "
      ]
     },
     "execution_count": 76,
     "metadata": {},
     "output_type": "execute_result"
    }
   ],
   "source": [
    "data.head()"
   ]
  },
  {
   "cell_type": "code",
   "execution_count": 77,
   "id": "6a247a8b-321b-4fab-9873-86d715e9cd5d",
   "metadata": {},
   "outputs": [],
   "source": [
    "#model building\n",
    "x= data.drop('Price($)',axis=1)\n",
    "y= data['Price($)']"
   ]
  },
  {
   "cell_type": "code",
   "execution_count": 78,
   "id": "0d21ac53-ba2a-415f-bfc0-c303afe47edf",
   "metadata": {},
   "outputs": [],
   "source": [
    "#one-hot-encoding\n",
    "data = pd.get_dummies(data)"
   ]
  },
  {
   "cell_type": "code",
   "execution_count": 79,
   "id": "6e2a2392-3d82-49a8-bbcc-b40022ea3fe6",
   "metadata": {},
   "outputs": [
    {
     "data": {
      "text/html": [
       "<div>\n",
       "<style scoped>\n",
       "    .dataframe tbody tr th:only-of-type {\n",
       "        vertical-align: middle;\n",
       "    }\n",
       "\n",
       "    .dataframe tbody tr th {\n",
       "        vertical-align: top;\n",
       "    }\n",
       "\n",
       "    .dataframe thead th {\n",
       "        text-align: right;\n",
       "    }\n",
       "</style>\n",
       "<table border=\"1\" class=\"dataframe\">\n",
       "  <thead>\n",
       "    <tr style=\"text-align: right;\">\n",
       "      <th></th>\n",
       "      <th>Ratings</th>\n",
       "      <th>RAM</th>\n",
       "      <th>ROM</th>\n",
       "      <th>Mobile_Size</th>\n",
       "      <th>Primary_Cam</th>\n",
       "      <th>Selfi_Cam</th>\n",
       "      <th>Battery_Power</th>\n",
       "      <th>Price($)</th>\n",
       "      <th>brand_name_Apple</th>\n",
       "      <th>brand_name_Nokia</th>\n",
       "      <th>brand_name_Oppo</th>\n",
       "      <th>brand_name_Redmi</th>\n",
       "      <th>brand_name_Samsung</th>\n",
       "      <th>brand_name_Vivo</th>\n",
       "    </tr>\n",
       "  </thead>\n",
       "  <tbody>\n",
       "    <tr>\n",
       "      <th>0</th>\n",
       "      <td>4.3</td>\n",
       "      <td>4</td>\n",
       "      <td>64</td>\n",
       "      <td>6.4</td>\n",
       "      <td>64</td>\n",
       "      <td>48</td>\n",
       "      <td>6500</td>\n",
       "      <td>649.0</td>\n",
       "      <td>False</td>\n",
       "      <td>False</td>\n",
       "      <td>True</td>\n",
       "      <td>False</td>\n",
       "      <td>False</td>\n",
       "      <td>False</td>\n",
       "    </tr>\n",
       "    <tr>\n",
       "      <th>1</th>\n",
       "      <td>3.4</td>\n",
       "      <td>4</td>\n",
       "      <td>48</td>\n",
       "      <td>5.8</td>\n",
       "      <td>64</td>\n",
       "      <td>48</td>\n",
       "      <td>5300</td>\n",
       "      <td>750.0</td>\n",
       "      <td>False</td>\n",
       "      <td>False</td>\n",
       "      <td>False</td>\n",
       "      <td>False</td>\n",
       "      <td>False</td>\n",
       "      <td>True</td>\n",
       "    </tr>\n",
       "    <tr>\n",
       "      <th>2</th>\n",
       "      <td>4.3</td>\n",
       "      <td>4</td>\n",
       "      <td>64</td>\n",
       "      <td>6.1</td>\n",
       "      <td>48</td>\n",
       "      <td>32</td>\n",
       "      <td>4000</td>\n",
       "      <td>449.0</td>\n",
       "      <td>False</td>\n",
       "      <td>False</td>\n",
       "      <td>False</td>\n",
       "      <td>True</td>\n",
       "      <td>False</td>\n",
       "      <td>False</td>\n",
       "    </tr>\n",
       "    <tr>\n",
       "      <th>3</th>\n",
       "      <td>4.4</td>\n",
       "      <td>4</td>\n",
       "      <td>64</td>\n",
       "      <td>6.4</td>\n",
       "      <td>48</td>\n",
       "      <td>32</td>\n",
       "      <td>5500</td>\n",
       "      <td>609.0</td>\n",
       "      <td>False</td>\n",
       "      <td>False</td>\n",
       "      <td>False</td>\n",
       "      <td>False</td>\n",
       "      <td>True</td>\n",
       "      <td>False</td>\n",
       "    </tr>\n",
       "    <tr>\n",
       "      <th>4</th>\n",
       "      <td>4.5</td>\n",
       "      <td>2</td>\n",
       "      <td>24</td>\n",
       "      <td>3.7</td>\n",
       "      <td>16</td>\n",
       "      <td>12</td>\n",
       "      <td>3000</td>\n",
       "      <td>249.0</td>\n",
       "      <td>False</td>\n",
       "      <td>True</td>\n",
       "      <td>False</td>\n",
       "      <td>False</td>\n",
       "      <td>False</td>\n",
       "      <td>False</td>\n",
       "    </tr>\n",
       "  </tbody>\n",
       "</table>\n",
       "</div>"
      ],
      "text/plain": [
       "   Ratings  RAM  ROM  Mobile_Size  Primary_Cam  Selfi_Cam  Battery_Power  \\\n",
       "0      4.3    4   64          6.4           64         48           6500   \n",
       "1      3.4    4   48          5.8           64         48           5300   \n",
       "2      4.3    4   64          6.1           48         32           4000   \n",
       "3      4.4    4   64          6.4           48         32           5500   \n",
       "4      4.5    2   24          3.7           16         12           3000   \n",
       "\n",
       "   Price($)  brand_name_Apple  brand_name_Nokia  brand_name_Oppo  \\\n",
       "0     649.0             False             False             True   \n",
       "1     750.0             False             False            False   \n",
       "2     449.0             False             False            False   \n",
       "3     609.0             False             False            False   \n",
       "4     249.0             False              True            False   \n",
       "\n",
       "   brand_name_Redmi  brand_name_Samsung  brand_name_Vivo  \n",
       "0             False               False            False  \n",
       "1             False               False             True  \n",
       "2              True               False            False  \n",
       "3             False                True            False  \n",
       "4             False               False            False  "
      ]
     },
     "execution_count": 79,
     "metadata": {},
     "output_type": "execute_result"
    }
   ],
   "source": [
    "data.head()"
   ]
  },
  {
   "cell_type": "code",
   "execution_count": 80,
   "id": "f1ef049f-8643-4282-beaf-43450debbb5a",
   "metadata": {},
   "outputs": [],
   "source": [
    "x = data.drop('Price($)', axis=1)\n",
    "y= data['Price($)']"
   ]
  },
  {
   "cell_type": "code",
   "execution_count": 50,
   "id": "034941c1-496d-4a7e-afcd-e1514dde5e58",
   "metadata": {},
   "outputs": [
    {
     "name": "stdout",
     "output_type": "stream",
     "text": [
      "Collecting scikit_learn\n",
      "  Obtaining dependency information for scikit_learn from https://files.pythonhosted.org/packages/f1/7d/2e562207176a5dcdad513085670674bb11ffaf37e1393eacb6d7fb502481/scikit_learn-1.3.1-cp311-cp311-win_amd64.whl.metadata\n",
      "  Using cached scikit_learn-1.3.1-cp311-cp311-win_amd64.whl.metadata (11 kB)\n",
      "Requirement already satisfied: numpy<2.0,>=1.17.3 in c:\\sliit\\3rd year 2nd semester july\\fdm\\fdm project\\mobile phone price prediction\\model\\env\\lib\\site-packages (from scikit_learn) (1.26.0)\n",
      "Collecting scipy>=1.5.0 (from scikit_learn)\n",
      "  Obtaining dependency information for scipy>=1.5.0 from https://files.pythonhosted.org/packages/81/d7/d2537d51efb692d0c411e64267ba349e7668d40f5bc73cefe78ccd650dcd/scipy-1.11.3-cp311-cp311-win_amd64.whl.metadata\n",
      "  Using cached scipy-1.11.3-cp311-cp311-win_amd64.whl.metadata (60 kB)\n",
      "Collecting joblib>=1.1.1 (from scikit_learn)\n",
      "  Obtaining dependency information for joblib>=1.1.1 from https://files.pythonhosted.org/packages/10/40/d551139c85db202f1f384ba8bcf96aca2f329440a844f924c8a0040b6d02/joblib-1.3.2-py3-none-any.whl.metadata\n",
      "  Using cached joblib-1.3.2-py3-none-any.whl.metadata (5.4 kB)\n",
      "Collecting threadpoolctl>=2.0.0 (from scikit_learn)\n",
      "  Obtaining dependency information for threadpoolctl>=2.0.0 from https://files.pythonhosted.org/packages/81/12/fd4dea011af9d69e1cad05c75f3f7202cdcbeac9b712eea58ca779a72865/threadpoolctl-3.2.0-py3-none-any.whl.metadata\n",
      "  Using cached threadpoolctl-3.2.0-py3-none-any.whl.metadata (10.0 kB)\n",
      "Using cached scikit_learn-1.3.1-cp311-cp311-win_amd64.whl (9.2 MB)\n",
      "Using cached joblib-1.3.2-py3-none-any.whl (302 kB)\n",
      "Using cached scipy-1.11.3-cp311-cp311-win_amd64.whl (44.1 MB)\n",
      "Using cached threadpoolctl-3.2.0-py3-none-any.whl (15 kB)\n",
      "Installing collected packages: threadpoolctl, scipy, joblib, scikit_learn\n",
      "Successfully installed joblib-1.3.2 scikit_learn-1.3.1 scipy-1.11.3 threadpoolctl-3.2.0\n"
     ]
    }
   ],
   "source": [
    "!pip install scikit_learn"
   ]
  },
  {
   "cell_type": "code",
   "execution_count": 106,
   "id": "13efee46-97d1-4c69-a86d-09b4c50548ff",
   "metadata": {},
   "outputs": [],
   "source": [
    "from sklearn.model_selection import train_test_split\n",
    "x_train,x_test,y_train,y_test = train_test_split(x,y,test_size=0.25)"
   ]
  },
  {
   "cell_type": "code",
   "execution_count": 107,
   "id": "7f84672b-328b-441f-a9cb-3e47b6425c82",
   "metadata": {},
   "outputs": [
    {
     "data": {
      "text/plain": [
       "((624, 13), (209, 13))"
      ]
     },
     "execution_count": 107,
     "metadata": {},
     "output_type": "execute_result"
    }
   ],
   "source": [
    "x_train.shape , x_test.shape"
   ]
  },
  {
   "cell_type": "code",
   "execution_count": 108,
   "id": "4fc6a9c8-c3bc-4787-bfe6-665df8df63c7",
   "metadata": {},
   "outputs": [],
   "source": [
    "def model_accuracy(model):\n",
    "    model.fit(x_train, y_train)\n",
    "    acc = model.score(x_test, y_test)\n",
    "    print(str(model)+'-->'+str(acc))\n",
    "\n"
   ]
  },
  {
   "cell_type": "code",
   "execution_count": 109,
   "id": "14f82d1e-68d1-4c9e-9674-be9eb02ff665",
   "metadata": {},
   "outputs": [
    {
     "name": "stdout",
     "output_type": "stream",
     "text": [
      "LinearRegression()-->0.9914838144048042\n"
     ]
    }
   ],
   "source": [
    "from sklearn.linear_model import LinearRegression\n",
    "\n",
    "lr = LinearRegression()\n",
    "\n",
    "model_accuracy(lr)"
   ]
  },
  {
   "cell_type": "code",
   "execution_count": 91,
   "id": "5cfd9eaf-883f-45ed-980f-eb3505aa5e2d",
   "metadata": {},
   "outputs": [
    {
     "name": "stdout",
     "output_type": "stream",
     "text": [
      "LinearRegression()-->0.9917699176425746\n"
     ]
    }
   ],
   "source": [
    "from sklearn.linear_model import Lasso\n",
    "\n",
    "lasso = LinearRegression()\n",
    "\n",
    "model_accuracy(lasso)"
   ]
  },
  {
   "cell_type": "code",
   "execution_count": 92,
   "id": "e0504f54-f027-46c4-a547-b00d027bc0bf",
   "metadata": {},
   "outputs": [
    {
     "name": "stdout",
     "output_type": "stream",
     "text": [
      "DecisionTreeRegressor()-->0.9979578961639507\n"
     ]
    }
   ],
   "source": [
    "from sklearn.tree import DecisionTreeRegressor\n",
    "\n",
    "dt = DecisionTreeRegressor()\n",
    "\n",
    "model_accuracy(dt)"
   ]
  },
  {
   "cell_type": "code",
   "execution_count": 93,
   "id": "d3266b47-04bf-4b13-8937-d5a70ff9945d",
   "metadata": {},
   "outputs": [
    {
     "name": "stdout",
     "output_type": "stream",
     "text": [
      "RandomForestRegressor()-->0.9979798215229754\n"
     ]
    }
   ],
   "source": [
    "from sklearn.ensemble import RandomForestRegressor\n",
    "\n",
    "rf = RandomForestRegressor()\n",
    "\n",
    "model_accuracy(rf)"
   ]
  },
  {
   "cell_type": "code",
   "execution_count": 125,
   "id": "62b43a5b-a3dc-4e53-b296-1dfdcf8e5f29",
   "metadata": {},
   "outputs": [
    {
     "data": {
      "text/html": [
       "<style>#sk-container-id-6 {color: black;}#sk-container-id-6 pre{padding: 0;}#sk-container-id-6 div.sk-toggleable {background-color: white;}#sk-container-id-6 label.sk-toggleable__label {cursor: pointer;display: block;width: 100%;margin-bottom: 0;padding: 0.3em;box-sizing: border-box;text-align: center;}#sk-container-id-6 label.sk-toggleable__label-arrow:before {content: \"▸\";float: left;margin-right: 0.25em;color: #696969;}#sk-container-id-6 label.sk-toggleable__label-arrow:hover:before {color: black;}#sk-container-id-6 div.sk-estimator:hover label.sk-toggleable__label-arrow:before {color: black;}#sk-container-id-6 div.sk-toggleable__content {max-height: 0;max-width: 0;overflow: hidden;text-align: left;background-color: #f0f8ff;}#sk-container-id-6 div.sk-toggleable__content pre {margin: 0.2em;color: black;border-radius: 0.25em;background-color: #f0f8ff;}#sk-container-id-6 input.sk-toggleable__control:checked~div.sk-toggleable__content {max-height: 200px;max-width: 100%;overflow: auto;}#sk-container-id-6 input.sk-toggleable__control:checked~label.sk-toggleable__label-arrow:before {content: \"▾\";}#sk-container-id-6 div.sk-estimator input.sk-toggleable__control:checked~label.sk-toggleable__label {background-color: #d4ebff;}#sk-container-id-6 div.sk-label input.sk-toggleable__control:checked~label.sk-toggleable__label {background-color: #d4ebff;}#sk-container-id-6 input.sk-hidden--visually {border: 0;clip: rect(1px 1px 1px 1px);clip: rect(1px, 1px, 1px, 1px);height: 1px;margin: -1px;overflow: hidden;padding: 0;position: absolute;width: 1px;}#sk-container-id-6 div.sk-estimator {font-family: monospace;background-color: #f0f8ff;border: 1px dotted black;border-radius: 0.25em;box-sizing: border-box;margin-bottom: 0.5em;}#sk-container-id-6 div.sk-estimator:hover {background-color: #d4ebff;}#sk-container-id-6 div.sk-parallel-item::after {content: \"\";width: 100%;border-bottom: 1px solid gray;flex-grow: 1;}#sk-container-id-6 div.sk-label:hover label.sk-toggleable__label {background-color: #d4ebff;}#sk-container-id-6 div.sk-serial::before {content: \"\";position: absolute;border-left: 1px solid gray;box-sizing: border-box;top: 0;bottom: 0;left: 50%;z-index: 0;}#sk-container-id-6 div.sk-serial {display: flex;flex-direction: column;align-items: center;background-color: white;padding-right: 0.2em;padding-left: 0.2em;position: relative;}#sk-container-id-6 div.sk-item {position: relative;z-index: 1;}#sk-container-id-6 div.sk-parallel {display: flex;align-items: stretch;justify-content: center;background-color: white;position: relative;}#sk-container-id-6 div.sk-item::before, #sk-container-id-6 div.sk-parallel-item::before {content: \"\";position: absolute;border-left: 1px solid gray;box-sizing: border-box;top: 0;bottom: 0;left: 50%;z-index: -1;}#sk-container-id-6 div.sk-parallel-item {display: flex;flex-direction: column;z-index: 1;position: relative;background-color: white;}#sk-container-id-6 div.sk-parallel-item:first-child::after {align-self: flex-end;width: 50%;}#sk-container-id-6 div.sk-parallel-item:last-child::after {align-self: flex-start;width: 50%;}#sk-container-id-6 div.sk-parallel-item:only-child::after {width: 0;}#sk-container-id-6 div.sk-dashed-wrapped {border: 1px dashed gray;margin: 0 0.4em 0.5em 0.4em;box-sizing: border-box;padding-bottom: 0.4em;background-color: white;}#sk-container-id-6 div.sk-label label {font-family: monospace;font-weight: bold;display: inline-block;line-height: 1.2em;}#sk-container-id-6 div.sk-label-container {text-align: center;}#sk-container-id-6 div.sk-container {/* jupyter's `normalize.less` sets `[hidden] { display: none; }` but bootstrap.min.css set `[hidden] { display: none !important; }` so we also need the `!important` here to be able to override the default hidden behavior on the sphinx rendered scikit-learn.org. See: https://github.com/scikit-learn/scikit-learn/issues/21755 */display: inline-block !important;position: relative;}#sk-container-id-6 div.sk-text-repr-fallback {display: none;}</style><div id=\"sk-container-id-6\" class=\"sk-top-container\"><div class=\"sk-text-repr-fallback\"><pre>LinearRegression()</pre><b>In a Jupyter environment, please rerun this cell to show the HTML representation or trust the notebook. <br />On GitHub, the HTML representation is unable to render, please try loading this page with nbviewer.org.</b></div><div class=\"sk-container\" hidden><div class=\"sk-item\"><div class=\"sk-estimator sk-toggleable\"><input class=\"sk-toggleable__control sk-hidden--visually\" id=\"sk-estimator-id-6\" type=\"checkbox\" checked><label for=\"sk-estimator-id-6\" class=\"sk-toggleable__label sk-toggleable__label-arrow\">LinearRegression</label><div class=\"sk-toggleable__content\"><pre>LinearRegression()</pre></div></div></div></div></div>"
      ],
      "text/plain": [
       "LinearRegression()"
      ]
     },
     "execution_count": 125,
     "metadata": {},
     "output_type": "execute_result"
    }
   ],
   "source": [
    "from sklearn.model_selection import GridSearchCV\n",
    "parameters = {\n",
    "    'fit_intercept': [True],\n",
    "    'copy_X': [True, False],\n",
    "}\n",
    "\n",
    "grid_obj = GridSearchCV(lr, parameters, cv=5, scoring='neg_mean_squared_error')\n",
    "\n",
    "\n",
    "grid_fit = grid_obj.fit(x_train, y_train)\n",
    "best_model =grid_fit.best_estimator_\n",
    "best_model"
   ]
  },
  {
   "cell_type": "code",
   "execution_count": 126,
   "id": "e68f59ea-f55c-4634-b749-5df4e322f346",
   "metadata": {},
   "outputs": [
    {
     "data": {
      "text/plain": [
       "0.9914838144048042"
      ]
     },
     "execution_count": 126,
     "metadata": {},
     "output_type": "execute_result"
    }
   ],
   "source": [
    "best_model.score(x_test, y_test)"
   ]
  },
  {
   "cell_type": "code",
   "execution_count": 127,
   "id": "a4322250-bb04-4e5a-b2aa-56d72c220a1a",
   "metadata": {},
   "outputs": [],
   "source": [
    "import pickle\n",
    "with open('predictor.pickle','wb') as file:\n",
    "    pickle.dump(best_model, file)\n"
   ]
  },
  {
   "cell_type": "code",
   "execution_count": 128,
   "id": "36281a0a-46f9-4f15-9009-6555c63a771d",
   "metadata": {},
   "outputs": [
    {
     "data": {
      "text/plain": [
       "Index(['Ratings', 'RAM', 'ROM', 'Mobile_Size', 'Primary_Cam', 'Selfi_Cam',\n",
       "       'Battery_Power', 'brand_name_Apple', 'brand_name_Nokia',\n",
       "       'brand_name_Oppo', 'brand_name_Redmi', 'brand_name_Samsung',\n",
       "       'brand_name_Vivo'],\n",
       "      dtype='object')"
      ]
     },
     "execution_count": 128,
     "metadata": {},
     "output_type": "execute_result"
    }
   ],
   "source": [
    "x_train.columns"
   ]
  },
  {
   "cell_type": "code",
   "execution_count": 129,
   "id": "01fae5f5-0b28-4347-ba60-4a3ab3215ffd",
   "metadata": {},
   "outputs": [
    {
     "name": "stdout",
     "output_type": "stream",
     "text": [
      "<class 'pandas.core.frame.DataFrame'>\n",
      "Index: 833 entries, 0 to 1364\n",
      "Data columns (total 14 columns):\n",
      " #   Column              Non-Null Count  Dtype  \n",
      "---  ------              --------------  -----  \n",
      " 0   Ratings             833 non-null    float64\n",
      " 1   RAM                 833 non-null    int32  \n",
      " 2   ROM                 833 non-null    int32  \n",
      " 3   Mobile_Size         833 non-null    float64\n",
      " 4   Primary_Cam         833 non-null    int32  \n",
      " 5   Selfi_Cam           833 non-null    int32  \n",
      " 6   Battery_Power       833 non-null    int32  \n",
      " 7   Price($)            833 non-null    float64\n",
      " 8   brand_name_Apple    833 non-null    bool   \n",
      " 9   brand_name_Nokia    833 non-null    bool   \n",
      " 10  brand_name_Oppo     833 non-null    bool   \n",
      " 11  brand_name_Redmi    833 non-null    bool   \n",
      " 12  brand_name_Samsung  833 non-null    bool   \n",
      " 13  brand_name_Vivo     833 non-null    bool   \n",
      "dtypes: bool(6), float64(3), int32(5)\n",
      "memory usage: 47.2 KB\n"
     ]
    }
   ],
   "source": [
    "data.info()"
   ]
  },
  {
   "cell_type": "code",
   "execution_count": 131,
   "id": "c6be076f-3cd8-4078-8a43-3f33ece37fd2",
   "metadata": {},
   "outputs": [
    {
     "name": "stderr",
     "output_type": "stream",
     "text": [
      "C:\\SLIIT\\3rd year 2nd semester july\\FDM\\fdm project\\Mobile Phone Price Prediction\\model\\env\\Lib\\site-packages\\sklearn\\base.py:465: UserWarning: X does not have valid feature names, but LinearRegression was fitted with feature names\n",
      "  warnings.warn(\n"
     ]
    },
    {
     "data": {
      "text/plain": [
       "array([17013.20849362])"
      ]
     },
     "execution_count": 131,
     "metadata": {},
     "output_type": "execute_result"
    }
   ],
   "source": [
    "best_model.predict([[4.0, 8, 4, 3.4, 1200, 12.0, 8.0, 1, 0, 0, 0, 0, 0]])"
   ]
  },
  {
   "cell_type": "code",
   "execution_count": null,
   "id": "67b36636-59f2-4271-a422-6bdb7db750a2",
   "metadata": {},
   "outputs": [],
   "source": []
  },
  {
   "cell_type": "code",
   "execution_count": 69,
   "id": "9905c3d1-513a-4dbb-9e8e-7fc4ce0fef9e",
   "metadata": {},
   "outputs": [],
   "source": [
    "from sklearn.model_selection import cross_val_"
   ]
  },
  {
   "cell_type": "code",
   "execution_count": 70,
   "id": "6165b7eb-a225-4a78-91a8-ac5357a5b083",
   "metadata": {},
   "outputs": [
    {
     "data": {
      "text/plain": [
       "0.9903163380664799"
      ]
     },
     "execution_count": 70,
     "metadata": {},
     "output_type": "execute_result"
    }
   ],
   "source": [
    "from sklearn.linear_model import LinearRegression\n",
    "\n",
    "lr = LinearRegression()\n",
    "\n",
    "cross_val_score(lr,x,y,cv=5).mean()"
   ]
  },
  {
   "cell_type": "code",
   "execution_count": 71,
   "id": "ead304f0-6ba5-496e-94d9-844ca8649a69",
   "metadata": {},
   "outputs": [
    {
     "data": {
      "text/plain": [
       "0.9903163380664799"
      ]
     },
     "execution_count": 71,
     "metadata": {},
     "output_type": "execute_result"
    }
   ],
   "source": [
    "from sklearn.linear_model import Lasso\n",
    "\n",
    "lasso = LinearRegression()\n",
    "cross_val_score(lasso,x,y,cv=5).mean()"
   ]
  },
  {
   "cell_type": "code",
   "execution_count": 72,
   "id": "3e9ced8e-6427-45c3-882f-4f41d1e25423",
   "metadata": {},
   "outputs": [
    {
     "data": {
      "text/plain": [
       "0.9995458421958411"
      ]
     },
     "execution_count": 72,
     "metadata": {},
     "output_type": "execute_result"
    }
   ],
   "source": [
    "from sklearn.tree import DecisionTreeRegressor\n",
    "\n",
    "dt = DecisionTreeRegressor()\n",
    "cross_val_score(dt,x,y,cv=5).mean()\n",
    "\n"
   ]
  },
  {
   "cell_type": "code",
   "execution_count": 73,
   "id": "c58e4120-deef-47e4-8b02-69d7209853b8",
   "metadata": {},
   "outputs": [
    {
     "data": {
      "text/plain": [
       "0.9996149552804671"
      ]
     },
     "execution_count": 73,
     "metadata": {},
     "output_type": "execute_result"
    }
   ],
   "source": [
    "from sklearn.ensemble import RandomForestRegressor\n",
    "\n",
    "rf = RandomForestRegressor()\n",
    "cross_val_score(rf,x,y,cv=5).mean()"
   ]
  },
  {
   "cell_type": "code",
   "execution_count": null,
   "id": "e5adcb68-0d57-4c9b-b6dd-15cb21e8a735",
   "metadata": {},
   "outputs": [],
   "source": []
  }
 ],
 "metadata": {
  "kernelspec": {
   "display_name": "Python 3 (ipykernel)",
   "language": "python",
   "name": "python3"
  },
  "language_info": {
   "codemirror_mode": {
    "name": "ipython",
    "version": 3
   },
   "file_extension": ".py",
   "mimetype": "text/x-python",
   "name": "python",
   "nbconvert_exporter": "python",
   "pygments_lexer": "ipython3",
   "version": "3.11.4"
  }
 },
 "nbformat": 4,
 "nbformat_minor": 5
}
